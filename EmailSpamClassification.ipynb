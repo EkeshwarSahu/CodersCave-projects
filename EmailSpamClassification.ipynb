{
  "cells": [
    {
      "cell_type": "markdown",
      "source": [
        "## Importing Required libraries"
      ],
      "metadata": {
        "id": "tKMgIgT8nFmc"
      }
    },
    {
      "cell_type": "code",
      "execution_count": null,
      "metadata": {
        "id": "aBTemc5Ju2Gs"
      },
      "outputs": [],
      "source": [
        "import warnings\n",
        "warnings.filterwarnings('ignore')\n",
        "import numpy as np\n",
        "import pandas as pd #to work with CSV files\n",
        "\n",
        "#matplotlib imports are used to plot confusion matrix for the classifiers\n",
        "import matplotlib as mpl\n",
        "import matplotlib.cm as cm\n",
        "import matplotlib.pyplot as plt\n",
        "\n",
        "#import feature extraction methods from sklearn\n",
        "from sklearn.feature_extraction.text import CountVectorizer\n",
        "from sklearn.feature_extraction import _stop_words\n",
        "\n",
        "#pre-processing of text\n",
        "import string\n",
        "import re\n",
        "\n",
        "#import classifiers from sklearn\n",
        "from sklearn.naive_bayes import MultinomialNB\n",
        "from sklearn.linear_model import LogisticRegression\n",
        "from sklearn.svm import LinearSVC\n",
        "\n",
        "#import different metrices to evaluate the classifiers\n",
        "from sklearn.metrics import accuracy_score\n",
        "from sklearn.model_selection import train_test_split\n",
        "from sklearn import metrics\n",
        "from sklearn.metrics import confusion_matrix, roc_curve, roc_auc_score, auc, classification_report\n",
        "\n",
        "#import time fuunction from time module to track the training duration\n",
        "from time import time"
      ]
    },
    {
      "cell_type": "markdown",
      "source": [
        "## Data Sanity Check"
      ],
      "metadata": {
        "id": "o9OhI1I9nRRU"
      }
    },
    {
      "cell_type": "code",
      "execution_count": null,
      "metadata": {
        "id": "UlzVeSoh1ZH4"
      },
      "outputs": [],
      "source": [
        "our_data = pd.read_csv(\"/content/drive/MyDrive/PROJECTS DATABASE/spam.csv\", encoding = \"ISO-8859-1\")"
      ]
    },
    {
      "cell_type": "code",
      "execution_count": null,
      "metadata": {
        "colab": {
          "base_uri": "https://localhost:8080/",
          "height": 206
        },
        "id": "glm-HFeQ7E41",
        "outputId": "902aa77c-dda9-418b-aa54-25b368908b6b"
      },
      "outputs": [
        {
          "output_type": "execute_result",
          "data": {
            "text/plain": [
              "     v1                                                 v2 Unnamed: 2  \\\n",
              "0   ham  Go until jurong point, crazy.. Available only ...        NaN   \n",
              "1   ham                      Ok lar... Joking wif u oni...        NaN   \n",
              "2  spam  Free entry in 2 a wkly comp to win FA Cup fina...        NaN   \n",
              "3   ham  U dun say so early hor... U c already then say...        NaN   \n",
              "4   ham  Nah I don't think he goes to usf, he lives aro...        NaN   \n",
              "\n",
              "  Unnamed: 3 Unnamed: 4  \n",
              "0        NaN        NaN  \n",
              "1        NaN        NaN  \n",
              "2        NaN        NaN  \n",
              "3        NaN        NaN  \n",
              "4        NaN        NaN  "
            ],
            "text/html": [
              "\n",
              "  <div id=\"df-396dcaf7-c074-4791-b47d-37644b8cec1c\" class=\"colab-df-container\">\n",
              "    <div>\n",
              "<style scoped>\n",
              "    .dataframe tbody tr th:only-of-type {\n",
              "        vertical-align: middle;\n",
              "    }\n",
              "\n",
              "    .dataframe tbody tr th {\n",
              "        vertical-align: top;\n",
              "    }\n",
              "\n",
              "    .dataframe thead th {\n",
              "        text-align: right;\n",
              "    }\n",
              "</style>\n",
              "<table border=\"1\" class=\"dataframe\">\n",
              "  <thead>\n",
              "    <tr style=\"text-align: right;\">\n",
              "      <th></th>\n",
              "      <th>v1</th>\n",
              "      <th>v2</th>\n",
              "      <th>Unnamed: 2</th>\n",
              "      <th>Unnamed: 3</th>\n",
              "      <th>Unnamed: 4</th>\n",
              "    </tr>\n",
              "  </thead>\n",
              "  <tbody>\n",
              "    <tr>\n",
              "      <th>0</th>\n",
              "      <td>ham</td>\n",
              "      <td>Go until jurong point, crazy.. Available only ...</td>\n",
              "      <td>NaN</td>\n",
              "      <td>NaN</td>\n",
              "      <td>NaN</td>\n",
              "    </tr>\n",
              "    <tr>\n",
              "      <th>1</th>\n",
              "      <td>ham</td>\n",
              "      <td>Ok lar... Joking wif u oni...</td>\n",
              "      <td>NaN</td>\n",
              "      <td>NaN</td>\n",
              "      <td>NaN</td>\n",
              "    </tr>\n",
              "    <tr>\n",
              "      <th>2</th>\n",
              "      <td>spam</td>\n",
              "      <td>Free entry in 2 a wkly comp to win FA Cup fina...</td>\n",
              "      <td>NaN</td>\n",
              "      <td>NaN</td>\n",
              "      <td>NaN</td>\n",
              "    </tr>\n",
              "    <tr>\n",
              "      <th>3</th>\n",
              "      <td>ham</td>\n",
              "      <td>U dun say so early hor... U c already then say...</td>\n",
              "      <td>NaN</td>\n",
              "      <td>NaN</td>\n",
              "      <td>NaN</td>\n",
              "    </tr>\n",
              "    <tr>\n",
              "      <th>4</th>\n",
              "      <td>ham</td>\n",
              "      <td>Nah I don't think he goes to usf, he lives aro...</td>\n",
              "      <td>NaN</td>\n",
              "      <td>NaN</td>\n",
              "      <td>NaN</td>\n",
              "    </tr>\n",
              "  </tbody>\n",
              "</table>\n",
              "</div>\n",
              "    <div class=\"colab-df-buttons\">\n",
              "\n",
              "  <div class=\"colab-df-container\">\n",
              "    <button class=\"colab-df-convert\" onclick=\"convertToInteractive('df-396dcaf7-c074-4791-b47d-37644b8cec1c')\"\n",
              "            title=\"Convert this dataframe to an interactive table.\"\n",
              "            style=\"display:none;\">\n",
              "\n",
              "  <svg xmlns=\"http://www.w3.org/2000/svg\" height=\"24px\" viewBox=\"0 -960 960 960\">\n",
              "    <path d=\"M120-120v-720h720v720H120Zm60-500h600v-160H180v160Zm220 220h160v-160H400v160Zm0 220h160v-160H400v160ZM180-400h160v-160H180v160Zm440 0h160v-160H620v160ZM180-180h160v-160H180v160Zm440 0h160v-160H620v160Z\"/>\n",
              "  </svg>\n",
              "    </button>\n",
              "\n",
              "  <style>\n",
              "    .colab-df-container {\n",
              "      display:flex;\n",
              "      gap: 12px;\n",
              "    }\n",
              "\n",
              "    .colab-df-convert {\n",
              "      background-color: #E8F0FE;\n",
              "      border: none;\n",
              "      border-radius: 50%;\n",
              "      cursor: pointer;\n",
              "      display: none;\n",
              "      fill: #1967D2;\n",
              "      height: 32px;\n",
              "      padding: 0 0 0 0;\n",
              "      width: 32px;\n",
              "    }\n",
              "\n",
              "    .colab-df-convert:hover {\n",
              "      background-color: #E2EBFA;\n",
              "      box-shadow: 0px 1px 2px rgba(60, 64, 67, 0.3), 0px 1px 3px 1px rgba(60, 64, 67, 0.15);\n",
              "      fill: #174EA6;\n",
              "    }\n",
              "\n",
              "    .colab-df-buttons div {\n",
              "      margin-bottom: 4px;\n",
              "    }\n",
              "\n",
              "    [theme=dark] .colab-df-convert {\n",
              "      background-color: #3B4455;\n",
              "      fill: #D2E3FC;\n",
              "    }\n",
              "\n",
              "    [theme=dark] .colab-df-convert:hover {\n",
              "      background-color: #434B5C;\n",
              "      box-shadow: 0px 1px 3px 1px rgba(0, 0, 0, 0.15);\n",
              "      filter: drop-shadow(0px 1px 2px rgba(0, 0, 0, 0.3));\n",
              "      fill: #FFFFFF;\n",
              "    }\n",
              "  </style>\n",
              "\n",
              "    <script>\n",
              "      const buttonEl =\n",
              "        document.querySelector('#df-396dcaf7-c074-4791-b47d-37644b8cec1c button.colab-df-convert');\n",
              "      buttonEl.style.display =\n",
              "        google.colab.kernel.accessAllowed ? 'block' : 'none';\n",
              "\n",
              "      async function convertToInteractive(key) {\n",
              "        const element = document.querySelector('#df-396dcaf7-c074-4791-b47d-37644b8cec1c');\n",
              "        const dataTable =\n",
              "          await google.colab.kernel.invokeFunction('convertToInteractive',\n",
              "                                                    [key], {});\n",
              "        if (!dataTable) return;\n",
              "\n",
              "        const docLinkHtml = 'Like what you see? Visit the ' +\n",
              "          '<a target=\"_blank\" href=https://colab.research.google.com/notebooks/data_table.ipynb>data table notebook</a>'\n",
              "          + ' to learn more about interactive tables.';\n",
              "        element.innerHTML = '';\n",
              "        dataTable['output_type'] = 'display_data';\n",
              "        await google.colab.output.renderOutput(dataTable, element);\n",
              "        const docLink = document.createElement('div');\n",
              "        docLink.innerHTML = docLinkHtml;\n",
              "        element.appendChild(docLink);\n",
              "      }\n",
              "    </script>\n",
              "  </div>\n",
              "\n",
              "\n",
              "<div id=\"df-4e284c6d-c908-4136-ada9-f7f81d55a610\">\n",
              "  <button class=\"colab-df-quickchart\" onclick=\"quickchart('df-4e284c6d-c908-4136-ada9-f7f81d55a610')\"\n",
              "            title=\"Suggest charts.\"\n",
              "            style=\"display:none;\">\n",
              "\n",
              "<svg xmlns=\"http://www.w3.org/2000/svg\" height=\"24px\"viewBox=\"0 0 24 24\"\n",
              "     width=\"24px\">\n",
              "    <g>\n",
              "        <path d=\"M19 3H5c-1.1 0-2 .9-2 2v14c0 1.1.9 2 2 2h14c1.1 0 2-.9 2-2V5c0-1.1-.9-2-2-2zM9 17H7v-7h2v7zm4 0h-2V7h2v10zm4 0h-2v-4h2v4z\"/>\n",
              "    </g>\n",
              "</svg>\n",
              "  </button>\n",
              "\n",
              "<style>\n",
              "  .colab-df-quickchart {\n",
              "      --bg-color: #E8F0FE;\n",
              "      --fill-color: #1967D2;\n",
              "      --hover-bg-color: #E2EBFA;\n",
              "      --hover-fill-color: #174EA6;\n",
              "      --disabled-fill-color: #AAA;\n",
              "      --disabled-bg-color: #DDD;\n",
              "  }\n",
              "\n",
              "  [theme=dark] .colab-df-quickchart {\n",
              "      --bg-color: #3B4455;\n",
              "      --fill-color: #D2E3FC;\n",
              "      --hover-bg-color: #434B5C;\n",
              "      --hover-fill-color: #FFFFFF;\n",
              "      --disabled-bg-color: #3B4455;\n",
              "      --disabled-fill-color: #666;\n",
              "  }\n",
              "\n",
              "  .colab-df-quickchart {\n",
              "    background-color: var(--bg-color);\n",
              "    border: none;\n",
              "    border-radius: 50%;\n",
              "    cursor: pointer;\n",
              "    display: none;\n",
              "    fill: var(--fill-color);\n",
              "    height: 32px;\n",
              "    padding: 0;\n",
              "    width: 32px;\n",
              "  }\n",
              "\n",
              "  .colab-df-quickchart:hover {\n",
              "    background-color: var(--hover-bg-color);\n",
              "    box-shadow: 0 1px 2px rgba(60, 64, 67, 0.3), 0 1px 3px 1px rgba(60, 64, 67, 0.15);\n",
              "    fill: var(--button-hover-fill-color);\n",
              "  }\n",
              "\n",
              "  .colab-df-quickchart-complete:disabled,\n",
              "  .colab-df-quickchart-complete:disabled:hover {\n",
              "    background-color: var(--disabled-bg-color);\n",
              "    fill: var(--disabled-fill-color);\n",
              "    box-shadow: none;\n",
              "  }\n",
              "\n",
              "  .colab-df-spinner {\n",
              "    border: 2px solid var(--fill-color);\n",
              "    border-color: transparent;\n",
              "    border-bottom-color: var(--fill-color);\n",
              "    animation:\n",
              "      spin 1s steps(1) infinite;\n",
              "  }\n",
              "\n",
              "  @keyframes spin {\n",
              "    0% {\n",
              "      border-color: transparent;\n",
              "      border-bottom-color: var(--fill-color);\n",
              "      border-left-color: var(--fill-color);\n",
              "    }\n",
              "    20% {\n",
              "      border-color: transparent;\n",
              "      border-left-color: var(--fill-color);\n",
              "      border-top-color: var(--fill-color);\n",
              "    }\n",
              "    30% {\n",
              "      border-color: transparent;\n",
              "      border-left-color: var(--fill-color);\n",
              "      border-top-color: var(--fill-color);\n",
              "      border-right-color: var(--fill-color);\n",
              "    }\n",
              "    40% {\n",
              "      border-color: transparent;\n",
              "      border-right-color: var(--fill-color);\n",
              "      border-top-color: var(--fill-color);\n",
              "    }\n",
              "    60% {\n",
              "      border-color: transparent;\n",
              "      border-right-color: var(--fill-color);\n",
              "    }\n",
              "    80% {\n",
              "      border-color: transparent;\n",
              "      border-right-color: var(--fill-color);\n",
              "      border-bottom-color: var(--fill-color);\n",
              "    }\n",
              "    90% {\n",
              "      border-color: transparent;\n",
              "      border-bottom-color: var(--fill-color);\n",
              "    }\n",
              "  }\n",
              "</style>\n",
              "\n",
              "  <script>\n",
              "    async function quickchart(key) {\n",
              "      const quickchartButtonEl =\n",
              "        document.querySelector('#' + key + ' button');\n",
              "      quickchartButtonEl.disabled = true;  // To prevent multiple clicks.\n",
              "      quickchartButtonEl.classList.add('colab-df-spinner');\n",
              "      try {\n",
              "        const charts = await google.colab.kernel.invokeFunction(\n",
              "            'suggestCharts', [key], {});\n",
              "      } catch (error) {\n",
              "        console.error('Error during call to suggestCharts:', error);\n",
              "      }\n",
              "      quickchartButtonEl.classList.remove('colab-df-spinner');\n",
              "      quickchartButtonEl.classList.add('colab-df-quickchart-complete');\n",
              "    }\n",
              "    (() => {\n",
              "      let quickchartButtonEl =\n",
              "        document.querySelector('#df-4e284c6d-c908-4136-ada9-f7f81d55a610 button');\n",
              "      quickchartButtonEl.style.display =\n",
              "        google.colab.kernel.accessAllowed ? 'block' : 'none';\n",
              "    })();\n",
              "  </script>\n",
              "</div>\n",
              "    </div>\n",
              "  </div>\n"
            ]
          },
          "metadata": {},
          "execution_count": 92
        }
      ],
      "source": [
        "our_data.head()"
      ]
    },
    {
      "cell_type": "code",
      "execution_count": null,
      "metadata": {
        "colab": {
          "base_uri": "https://localhost:8080/"
        },
        "id": "rkDMN7ue7ni7",
        "outputId": "145cd499-9a9c-438e-e625-a9c333b30bde"
      },
      "outputs": [
        {
          "output_type": "execute_result",
          "data": {
            "text/plain": [
              "(5572, 2)"
            ]
          },
          "metadata": {},
          "execution_count": 93
        }
      ],
      "source": [
        "our_data = our_data[['v1', 'v2']] #Choosing only relevant columns for our dataframe\n",
        "our_data.shape"
      ]
    },
    {
      "cell_type": "code",
      "execution_count": null,
      "metadata": {
        "colab": {
          "base_uri": "https://localhost:8080/"
        },
        "id": "gN6ZyJet75EO",
        "outputId": "6aba9904-91d9-4792-8f19-a003c481309d"
      },
      "outputs": [
        {
          "output_type": "execute_result",
          "data": {
            "text/plain": [
              "403"
            ]
          },
          "metadata": {},
          "execution_count": 94
        }
      ],
      "source": [
        "#Finding duplicates\n",
        "our_data.duplicated().sum()"
      ]
    },
    {
      "cell_type": "code",
      "execution_count": null,
      "metadata": {
        "id": "z8khKAKU8AXM"
      },
      "outputs": [],
      "source": [
        "#dropping duplicates\n",
        "\n",
        "our_data = our_data.drop_duplicates(keep = 'first')"
      ]
    },
    {
      "cell_type": "code",
      "execution_count": null,
      "metadata": {
        "colab": {
          "base_uri": "https://localhost:8080/"
        },
        "id": "PwzfW7MV7Jex",
        "outputId": "fb9785b2-59e4-4d75-ec1c-2e284c0a7ec2"
      },
      "outputs": [
        {
          "output_type": "execute_result",
          "data": {
            "text/plain": [
              "(5169, 2)"
            ]
          },
          "metadata": {},
          "execution_count": 96
        }
      ],
      "source": [
        "our_data.shape"
      ]
    },
    {
      "cell_type": "code",
      "execution_count": null,
      "metadata": {
        "id": "5q60MfkYyxz-"
      },
      "outputs": [],
      "source": [
        "# Rename the columns in the DataFrame\n",
        "our_data = our_data.rename(columns={'v1': 'classification', 'v2': 'email'})\n"
      ]
    },
    {
      "cell_type": "markdown",
      "source": [
        "## Analysing the data"
      ],
      "metadata": {
        "id": "JVSsgFVtnrsd"
      }
    },
    {
      "cell_type": "code",
      "execution_count": null,
      "metadata": {
        "colab": {
          "base_uri": "https://localhost:8080/"
        },
        "id": "TdhoJ8oV7Vq1",
        "outputId": "6b727a73-aeaf-4d01-cced-1fa2ebac19c7"
      },
      "outputs": [
        {
          "output_type": "execute_result",
          "data": {
            "text/plain": [
              "ham     4516\n",
              "spam     653\n",
              "Name: classification, dtype: int64"
            ]
          },
          "metadata": {},
          "execution_count": 98
        }
      ],
      "source": [
        "our_data['classification'].value_counts()"
      ]
    },
    {
      "cell_type": "code",
      "source": [
        "# Count the number of spam and non-spam emails in the data set\n",
        "spam_counts = our_data['classification'].value_counts()\n",
        "\n",
        "# Plot the histogram\n",
        "plt.figure(figsize=(8, 6))\n",
        "plt.bar(spam_counts.index, spam_counts.values, color=['green', 'red'])\n",
        "plt.xlabel('Email Type')\n",
        "plt.ylabel('Number of Emails')\n",
        "plt.title('Number of Spam and Non-Spam Emails')\n",
        "plt.xticks([0, 1], ['ham (Non-Spam)', 'spam'])\n",
        "plt.show()"
      ],
      "metadata": {
        "colab": {
          "base_uri": "https://localhost:8080/",
          "height": 564
        },
        "id": "pYZlvBBqbpYJ",
        "outputId": "207ecb3a-60e9-4a7a-866f-feab8cb6c220"
      },
      "execution_count": null,
      "outputs": [
        {
          "output_type": "display_data",
          "data": {
            "text/plain": [
              "<Figure size 800x600 with 1 Axes>"
            ],
            "image/png": "[encoded data removed]"
          },
          "metadata": {}
        }
      ]
    },
    {
      "cell_type": "code",
      "execution_count": null,
      "metadata": {
        "id": "02xUHr-z7_uY"
      },
      "outputs": [],
      "source": [
        "#Labelling the target variable\n",
        "our_data['classification'] = our_data.classification.map({'spam':1, 'ham':0}) #spam is 1 not-spam is 0\n"
      ]
    },
    {
      "cell_type": "markdown",
      "metadata": {
        "id": "BZ4WrmlgDPHJ"
      },
      "source": [
        "## Text Cleaning\n",
        "Typical steps involve tokenization, lower casing, removing, stop words, punctuation markers etc, and vectorization. Other processes such as stemming/lemmatization can also be performed. Here, we are performing the following steps: removing br tags, punctuation, numbers, and stopwords. While we are using sklearn's list of stopwords, there are several other stop word lists (e.g., from NLTK) or sometimes, custom stopword lists are needed depending on the task."
      ]
    },
    {
      "cell_type": "code",
      "execution_count": null,
      "metadata": {
        "id": "wCHNRfcYC3lb"
      },
      "outputs": [],
      "source": [
        "from nltk.stem import WordNetLemmatizer\n",
        "import spacy\n",
        "nlp = spacy.load('en_core_web_sm')\n",
        "\n",
        "stopwords = _stop_words.ENGLISH_STOP_WORDS\n",
        "lemmatizer = WordNetLemmatizer()\n",
        "\n",
        "def clean(doc):\n",
        "    text_no_namedentities = []\n",
        "    document = nlp(doc)\n",
        "    ents = [e.text for e in document.ents]\n",
        "    for item in document:\n",
        "        if item.text in ents:\n",
        "            pass\n",
        "        else:\n",
        "            text_no_namedentities.append(item.text)\n",
        "    doc = (\" \".join(text_no_namedentities))\n",
        "\n",
        "    doc = doc.lower().strip()\n",
        "    doc = doc.replace(\"</br>\", \" \")\n",
        "    doc = doc.replace(\"-\", \" \")\n",
        "    doc = \"\".join([char for char in doc if char not in string.punctuation and not char.isdigit()])\n",
        "    doc = \" \".join([token for token in doc.split() if token not in stopwords])\n",
        "    doc = \"\".join([lemmatizer.lemmatize(word) for word in doc])\n",
        "    return doc"
      ]
    },
    {
      "cell_type": "code",
      "execution_count": null,
      "metadata": {
        "colab": {
          "base_uri": "https://localhost:8080/"
        },
        "id": "m5YIJ_Dv0XtX",
        "outputId": "871a6fac-ea13-44e2-9f60-9621af81fc68"
      },
      "outputs": [
        {
          "output_type": "stream",
          "name": "stdout",
          "text": [
            "(5169,) (5169,)\n"
          ]
        }
      ],
      "source": [
        "#Separating the target and features\n",
        "X = our_data[\"email\"]\n",
        "y = our_data[\"classification\"]\n",
        "\n",
        "print(X.shape, y.shape)"
      ]
    },
    {
      "cell_type": "markdown",
      "metadata": {
        "id": "g_PL07SZD3B6"
      },
      "source": [
        "## Modelling\n",
        "Now we are ready for the modeling. We are going to use algorithms from sklearn package. We will go through the following steps:\n",
        "\n",
        "1. Split the data into training and test sets (80% train, 20% test)\n",
        "2. Extract features from the training data using CountVectorizer.\n",
        "3. Transform the test data into the same feature vector as the training data.\n",
        "4. Train the classifier\n",
        "5. Evaluate the classifier"
      ]
    },
    {
      "cell_type": "code",
      "execution_count": null,
      "metadata": {
        "colab": {
          "base_uri": "https://localhost:8080/"
        },
        "id": "ZSxGGPyB1IQr",
        "outputId": "a5b3aad7-cb94-4f82-8082-1c540fe35b2a"
      },
      "outputs": [
        {
          "output_type": "stream",
          "name": "stdout",
          "text": [
            "(4135,) (4135,)\n",
            "(1034,) (1034,)\n"
          ]
        }
      ],
      "source": [
        "#Step 1: train-test split\n",
        "X_train, X_test, y_train, y_test = train_test_split(X, y, test_size=0.2, random_state=1)\n",
        "print(X_train.shape, y_train.shape)\n",
        "print(X_test.shape, y_test.shape)"
      ]
    },
    {
      "cell_type": "code",
      "execution_count": null,
      "metadata": {
        "colab": {
          "base_uri": "https://localhost:8080/"
        },
        "id": "jpuoKZZ91zzm",
        "outputId": "f1d24951-cc86-4491-cfef-9956c7c2efae"
      },
      "outputs": [
        {
          "output_type": "stream",
          "name": "stderr",
          "text": [
            "[nltk_data] Downloading package wordnet to /root/nltk_data...\n",
            "[nltk_data]   Package wordnet is already up-to-date!\n"
          ]
        },
        {
          "output_type": "execute_result",
          "data": {
            "text/plain": [
              "True"
            ]
          },
          "metadata": {},
          "execution_count": 104
        }
      ],
      "source": [
        "import nltk\n",
        "nltk.download('wordnet')"
      ]
    },
    {
      "cell_type": "code",
      "execution_count": null,
      "metadata": {
        "colab": {
          "base_uri": "https://localhost:8080/"
        },
        "id": "FtJmbHm61j0Q",
        "outputId": "87856d8b-ddb1-4e0f-c917-6e52685c0136"
      },
      "outputs": [
        {
          "output_type": "stream",
          "name": "stdout",
          "text": [
            "(4135, 6451) (1034, 6451)\n"
          ]
        }
      ],
      "source": [
        "#Step 2: Vectorisation\n",
        "vect = CountVectorizer(preprocessor=clean) #instantiate a vectorizer\n",
        "X_train_dtm = vect.fit_transform(X_train) #use it to extract features from training data\n",
        "#Step 3: transform test data (using training data's features)\n",
        "X_test_dtm = vect.transform(X_test)\n",
        "print(X_train_dtm.shape, X_test_dtm.shape)"
      ]
    },
    {
      "cell_type": "markdown",
      "metadata": {
        "id": "l62Gd6AED3B9"
      },
      "source": [
        "### Multinomial Naive Bayes"
      ]
    },
    {
      "cell_type": "code",
      "execution_count": null,
      "metadata": {
        "colab": {
          "base_uri": "https://localhost:8080/"
        },
        "id": "oyr2e_NCD3B9",
        "outputId": "28c21b68-096d-4739-b0b1-7363bb2ee625"
      },
      "outputs": [
        {
          "output_type": "stream",
          "name": "stdout",
          "text": [
            "CPU times: user 3.3 ms, sys: 993 µs, total: 4.29 ms\n",
            "Wall time: 9.86 ms\n",
            "\n",
            "Training Accuracy score: 0.992503022974607\n",
            "Testing Accuracy score: 0.9690522243713733\n"
          ]
        }
      ],
      "source": [
        "mnb = MultinomialNB()\n",
        "%time mnb.fit(X_train_dtm, y_train)\n",
        "\n",
        "y_pred_train = mnb.predict(X_train_dtm)\n",
        "y_pred_test = mnb.predict(X_test_dtm)\n",
        "print(\"\\nTraining Accuracy score:\",accuracy_score(y_train, y_pred_train))\n",
        "print(\"Testing Accuracy score:\",accuracy_score(y_test, y_pred_test))"
      ]
    },
    {
      "cell_type": "code",
      "execution_count": null,
      "metadata": {
        "colab": {
          "base_uri": "https://localhost:8080/"
        },
        "id": "zMGfMdA4D3B9",
        "outputId": "f851228f-dc2c-4451-cc6f-4a07233d916f"
      },
      "outputs": [
        {
          "output_type": "stream",
          "name": "stdout",
          "text": [
            "Train Classification Report:\n",
            "               precision    recall  f1-score   support\n",
            "\n",
            "           0       1.00      1.00      1.00      3617\n",
            "           1       0.97      0.97      0.97       518\n",
            "\n",
            "    accuracy                           0.99      4135\n",
            "   macro avg       0.98      0.98      0.98      4135\n",
            "weighted avg       0.99      0.99      0.99      4135\n",
            "\n",
            "\n",
            "Test Classification Report:\n",
            "               precision    recall  f1-score   support\n",
            "\n",
            "           0       0.98      0.99      0.98       899\n",
            "           1       0.91      0.85      0.88       135\n",
            "\n",
            "    accuracy                           0.97      1034\n",
            "   macro avg       0.94      0.92      0.93      1034\n",
            "weighted avg       0.97      0.97      0.97      1034\n",
            "\n"
          ]
        }
      ],
      "source": [
        "# Get classification reports for train and test sets\n",
        "train_classification_report = classification_report(y_train, y_pred_train)\n",
        "test_classification_report = classification_report(y_test, y_pred_test)\n",
        "\n",
        "\n",
        "# Print classification reports side by side\n",
        "print(\"Train Classification Report:\\n\", train_classification_report)\n",
        "print(\"\\nTest Classification Report:\\n\", test_classification_report)"
      ]
    },
    {
      "cell_type": "code",
      "execution_count": null,
      "metadata": {
        "colab": {
          "base_uri": "https://localhost:8080/",
          "height": 407
        },
        "id": "_AQ0kZA55W5e",
        "outputId": "4ac12657-70ff-4e07-d489-b8923e96089f"
      },
      "outputs": [
        {
          "output_type": "display_data",
          "data": {
            "text/plain": [
              "<Figure size 700x400 with 2 Axes>"
            ],
            "image/png": "[encoded data removed]"
          },
          "metadata": {}
        }
      ],
      "source": [
        "# Calculate confusion matrices for train and test sets\n",
        "train_cm = confusion_matrix(y_train, y_pred_train, normalize='true')\n",
        "test_cm = confusion_matrix(y_test, y_pred_test, normalize = 'true')\n",
        "\n",
        "# Plot the confusion matrices side by side\n",
        "plt.figure(figsize=(7,4))\n",
        "\n",
        "plt.subplot(1, 2, 1)\n",
        "sns.heatmap(train_cm, annot=True, cmap=\"coolwarm\", cbar=False)\n",
        "plt.title(\"Train Confusion Matrix\")\n",
        "plt.xlabel(\"Predicted\")\n",
        "plt.ylabel(\"Actual\")\n",
        "\n",
        "plt.subplot(1, 2, 2)\n",
        "sns.heatmap(test_cm, annot=True, cmap=\"coolwarm\", cbar=False)\n",
        "plt.title(\"Test Confusion Matrix\")\n",
        "plt.xlabel(\"Predicted\")\n",
        "plt.ylabel(\"Actual\")\n",
        "\n",
        "plt.tight_layout()\n",
        "plt.show()"
      ]
    },
    {
      "cell_type": "code",
      "execution_count": null,
      "metadata": {
        "colab": {
          "base_uri": "https://localhost:8080/",
          "height": 410
        },
        "id": "zDo4raIS6K99",
        "outputId": "44a59e28-5be1-4f17-bb83-b036d3a5c675"
      },
      "outputs": [
        {
          "output_type": "display_data",
          "data": {
            "text/plain": [
              "<Figure size 600x400 with 1 Axes>"
            ],
            "image/png": "[encoded data removed]"
          },
          "metadata": {}
        }
      ],
      "source": [
        "# Get predicted probabilities for both train and test sets\n",
        "train_probs = mnb.predict_proba(X_train_dtm)[:, 1]\n",
        "test_probs = mnb.predict_proba(X_test_dtm)[:, 1]\n",
        "\n",
        "# Calculate ROC curve for both train and test sets\n",
        "train_fpr, train_tpr, _ = roc_curve(y_train, train_probs)\n",
        "test_fpr, test_tpr, _ = roc_curve(y_test, test_probs)\n",
        "\n",
        "# Calculate AUC (Area Under the Curve) for both train and test ROC curves\n",
        "train_auc = auc(train_fpr, train_tpr)\n",
        "test_auc = auc(test_fpr, test_tpr)\n",
        "\n",
        "# Plot ROC curves side by side\n",
        "plt.figure(figsize=(6,4))\n",
        "plt.plot(train_fpr, train_tpr, color='darkorange', lw=2, label=f\"Train ROC Curve (AUC = {train_auc:.2f})\")\n",
        "plt.plot(test_fpr, test_tpr, color='blue', lw=2, label=f\"Test ROC Curve (AUC = {test_auc:.2f})\")\n",
        "plt.plot([0, 1], [0, 1], color='gray', lw=1, linestyle='--')\n",
        "plt.xlim([0.0, 1.0])\n",
        "plt.ylim([0.0, 1.05])\n",
        "plt.xlabel('False Positive Rate')\n",
        "plt.ylabel('True Positive Rate')\n",
        "plt.title('Receiver Operating Characteristic')\n",
        "plt.legend(loc='lower right')\n",
        "plt.show()"
      ]
    },
    {
      "cell_type": "markdown",
      "metadata": {
        "id": "L1X5-hWiD3B-"
      },
      "source": [
        "Multinomial Naive Bayes performs well with the test data with 97% accuracy."
      ]
    },
    {
      "cell_type": "markdown",
      "source": [
        "## Predicting emails"
      ],
      "metadata": {
        "id": "t8Er3GAZmWxg"
      }
    },
    {
      "cell_type": "code",
      "source": [
        "from sklearn.pipeline import Pipeline\n",
        "clf=Pipeline([\n",
        "    ('vectorizer',vect),\n",
        "    ('nb',mnb)\n",
        "])"
      ],
      "metadata": {
        "id": "SvD7CQIximMm"
      },
      "execution_count": null,
      "outputs": []
    },
    {
      "cell_type": "markdown",
      "source": [
        "__Here using mix of spam and non-spam email examples to test the functioning of model.__"
      ],
      "metadata": {
        "id": "pVEVG3F6qOAr"
      }
    },
    {
      "cell_type": "code",
      "source": [
        "emails=[\n",
        "       \"You're cordially invited to our charity fundraising event next weekend. Your support means a lot to us, and we hope to see you there.\",\n",
        "       \"Hello, this is a reminder of our team meeting tomorrow at 10 AM in the conference room. Please be on time.\",\n",
        "       \"Please verify your account information immediately by clicking on the link. Failure to do so will result in account suspension.\"\n",
        "]"
      ],
      "metadata": {
        "id": "MGxjmjbdkGtr"
      },
      "execution_count": null,
      "outputs": []
    },
    {
      "cell_type": "code",
      "source": [
        "clf.predict(emails)"
      ],
      "metadata": {
        "colab": {
          "base_uri": "https://localhost:8080/"
        },
        "id": "ePlFe3zCkM2T",
        "outputId": "ed314f3a-a6f7-435c-f98e-a3a0e5e5699f"
      },
      "execution_count": null,
      "outputs": [
        {
          "output_type": "execute_result",
          "data": {
            "text/plain": [
              "array([0, 0, 1])"
            ]
          },
          "metadata": {},
          "execution_count": 112
        }
      ]
    }
  ],
  "metadata": {
    "colab": {
      "provenance": []
    },
    "kernelspec": {
      "display_name": "Python 3",
      "name": "python3"
    },
    "language_info": {
      "name": "python"
    }
  },
  "nbformat": 4,
  "nbformat_minor": 0
}